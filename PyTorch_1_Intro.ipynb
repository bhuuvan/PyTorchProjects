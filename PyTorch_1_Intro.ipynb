{
  "nbformat": 4,
  "nbformat_minor": 0,
  "metadata": {
    "colab": {
      "provenance": [],
      "gpuType": "T4"
    },
    "kernelspec": {
      "name": "python3",
      "display_name": "Python 3"
    },
    "language_info": {
      "name": "python"
    },
    "accelerator": "GPU"
  },
  "cells": [
    {
      "cell_type": "code",
      "execution_count": 2,
      "metadata": {
        "colab": {
          "base_uri": "https://localhost:8080/"
        },
        "id": "qPoeAf6JF3ks",
        "outputId": "9705b271-3e96-453e-ead1-afa7b1bf9cc8"
      },
      "outputs": [
        {
          "output_type": "stream",
          "name": "stdout",
          "text": [
            "tensor([1.6928e+22, 2.6451e+20, 9.0999e+26])\n"
          ]
        }
      ],
      "source": [
        "import torch\n",
        "x = torch.empty(3)\n",
        "print(x)"
      ]
    },
    {
      "cell_type": "code",
      "source": [
        "x = torch.empty(2,3)\n",
        "print(x)"
      ],
      "metadata": {
        "colab": {
          "base_uri": "https://localhost:8080/"
        },
        "id": "RwGNrIlxGX-X",
        "outputId": "991f0aa6-29c9-40ef-c574-83e7e57fb09e"
      },
      "execution_count": 3,
      "outputs": [
        {
          "output_type": "stream",
          "name": "stdout",
          "text": [
            "tensor([[8.5052e+20, 3.2338e-41, 8.5106e+20],\n",
            "        [3.2338e-41, 8.9683e-44, 0.0000e+00]])\n"
          ]
        }
      ]
    },
    {
      "cell_type": "code",
      "source": [
        "x = torch.empty(2,3,4)\n",
        "print(x)"
      ],
      "metadata": {
        "colab": {
          "base_uri": "https://localhost:8080/"
        },
        "id": "tU29Z8YHGcag",
        "outputId": "04c7180f-b078-48f3-83f4-2f67e17d2d3b"
      },
      "execution_count": 4,
      "outputs": [
        {
          "output_type": "stream",
          "name": "stdout",
          "text": [
            "tensor([[[ 3.2963e+07,  4.3879e-41,  8.5090e+20,  3.2338e-41],\n",
            "         [ 4.4842e-44,  0.0000e+00,  8.9683e-44,  0.0000e+00],\n",
            "         [-3.7299e+00,  3.2331e-41,  8.5126e+20,  3.2338e-41]],\n",
            "\n",
            "        [[ 1.2612e-44, -1.7412e+38,  8.5127e+20,  3.2338e-41],\n",
            "         [ 1.5624e-42,  0.0000e+00,  8.5126e+20,  3.2338e-41],\n",
            "         [ 1.2612e-44,  9.3887e-44,  9.1084e-44,  0.0000e+00]]])\n"
          ]
        }
      ]
    },
    {
      "cell_type": "code",
      "source": [
        "x = torch.rand(2,3)\n",
        "print(x)"
      ],
      "metadata": {
        "colab": {
          "base_uri": "https://localhost:8080/"
        },
        "id": "EfSKs6ZOGfGZ",
        "outputId": "0ab287aa-f389-4022-d3d3-ed847de9346f"
      },
      "execution_count": 5,
      "outputs": [
        {
          "output_type": "stream",
          "name": "stdout",
          "text": [
            "tensor([[0.8649, 0.9190, 0.0149],\n",
            "        [0.6981, 0.1454, 0.2603]])\n"
          ]
        }
      ]
    },
    {
      "cell_type": "code",
      "source": [
        "x = torch.ones(2,2)\n",
        "print(x)"
      ],
      "metadata": {
        "colab": {
          "base_uri": "https://localhost:8080/"
        },
        "id": "ovv8Y7G6Gnvc",
        "outputId": "75efad3e-504c-4ade-8883-adf7cae5527f"
      },
      "execution_count": 6,
      "outputs": [
        {
          "output_type": "stream",
          "name": "stdout",
          "text": [
            "tensor([[1., 1.],\n",
            "        [1., 1.]])\n"
          ]
        }
      ]
    },
    {
      "cell_type": "code",
      "source": [
        "x = torch.zeros(2,3)\n",
        "print(x)"
      ],
      "metadata": {
        "colab": {
          "base_uri": "https://localhost:8080/"
        },
        "id": "3pKZHYxtGq5q",
        "outputId": "c933e771-ceb5-4359-9aa8-ec0266983e09"
      },
      "execution_count": 7,
      "outputs": [
        {
          "output_type": "stream",
          "name": "stdout",
          "text": [
            "tensor([[0., 0., 0.],\n",
            "        [0., 0., 0.]])\n"
          ]
        }
      ]
    },
    {
      "cell_type": "code",
      "source": [
        "x = torch.tensor([2.5,0.1])\n",
        "print(x)"
      ],
      "metadata": {
        "colab": {
          "base_uri": "https://localhost:8080/"
        },
        "id": "FWnwB4F-Gz8l",
        "outputId": "635ad3a2-7287-44c6-9119-799c6e3628b2"
      },
      "execution_count": 8,
      "outputs": [
        {
          "output_type": "stream",
          "name": "stdout",
          "text": [
            "tensor([2.5000, 0.1000])\n"
          ]
        }
      ]
    },
    {
      "cell_type": "code",
      "source": [
        "x = torch.rand(2,2)\n",
        "y = torch.rand(2,2)\n",
        "print(x,y)\n",
        "print(x+y)"
      ],
      "metadata": {
        "colab": {
          "base_uri": "https://localhost:8080/"
        },
        "id": "S_QsDrjYHDLa",
        "outputId": "848219ec-d8cd-4fdd-e402-6cc073567805"
      },
      "execution_count": 9,
      "outputs": [
        {
          "output_type": "stream",
          "name": "stdout",
          "text": [
            "tensor([[0.2777, 0.0943],\n",
            "        [0.4136, 0.1894]]) tensor([[0.3685, 0.4615],\n",
            "        [0.9317, 0.1781]])\n",
            "tensor([[0.6462, 0.5557],\n",
            "        [1.3453, 0.3674]])\n"
          ]
        }
      ]
    },
    {
      "cell_type": "code",
      "source": [
        "z = torch.add(x,y)\n",
        "print(z)"
      ],
      "metadata": {
        "colab": {
          "base_uri": "https://localhost:8080/"
        },
        "id": "79bX9dWBHLpi",
        "outputId": "f1c5bcf8-05e5-48db-8ba5-a89142ec8e35"
      },
      "execution_count": 10,
      "outputs": [
        {
          "output_type": "stream",
          "name": "stdout",
          "text": [
            "tensor([[0.6462, 0.5557],\n",
            "        [1.3453, 0.3674]])\n"
          ]
        }
      ]
    },
    {
      "cell_type": "code",
      "source": [
        "y.add_(x)"
      ],
      "metadata": {
        "colab": {
          "base_uri": "https://localhost:8080/"
        },
        "id": "cS0ikxClHQmm",
        "outputId": "348007e7-d77c-4d64-d386-786bc6670334"
      },
      "execution_count": 11,
      "outputs": [
        {
          "output_type": "execute_result",
          "data": {
            "text/plain": [
              "tensor([[0.6462, 0.5557],\n",
              "        [1.3453, 0.3674]])"
            ]
          },
          "metadata": {},
          "execution_count": 11
        }
      ]
    },
    {
      "cell_type": "code",
      "source": [
        "z = x-y\n",
        "print(z)"
      ],
      "metadata": {
        "colab": {
          "base_uri": "https://localhost:8080/"
        },
        "id": "c2GvDbj7HUnP",
        "outputId": "15595ea4-4e24-4007-db3d-574b0d82c913"
      },
      "execution_count": 12,
      "outputs": [
        {
          "output_type": "stream",
          "name": "stdout",
          "text": [
            "tensor([[-0.3685, -0.4615],\n",
            "        [-0.9317, -0.1781]])\n"
          ]
        }
      ]
    },
    {
      "cell_type": "code",
      "source": [
        "z = torch.mul(x,y)\n",
        "print(z)"
      ],
      "metadata": {
        "colab": {
          "base_uri": "https://localhost:8080/"
        },
        "id": "e1a3b1R7HfGE",
        "outputId": "c0bd689b-daf3-4bde-9e50-c4f30dbb1dc3"
      },
      "execution_count": 13,
      "outputs": [
        {
          "output_type": "stream",
          "name": "stdout",
          "text": [
            "tensor([[0.1795, 0.0524],\n",
            "        [0.5565, 0.0696]])\n"
          ]
        }
      ]
    },
    {
      "cell_type": "code",
      "source": [
        "z = x/y\n",
        "print(z)"
      ],
      "metadata": {
        "colab": {
          "base_uri": "https://localhost:8080/"
        },
        "id": "01eGZchoHhrp",
        "outputId": "601ca67e-b64f-41e0-8595-9860a627d0cf"
      },
      "execution_count": 14,
      "outputs": [
        {
          "output_type": "stream",
          "name": "stdout",
          "text": [
            "tensor([[0.4298, 0.1697],\n",
            "        [0.3075, 0.5154]])\n"
          ]
        }
      ]
    },
    {
      "cell_type": "code",
      "source": [
        "a = torch.rand(5,3)\n",
        "print(a)"
      ],
      "metadata": {
        "colab": {
          "base_uri": "https://localhost:8080/"
        },
        "id": "HGH-fnpaHmgS",
        "outputId": "c729027a-ef46-471f-b038-7d85331875ed"
      },
      "execution_count": 15,
      "outputs": [
        {
          "output_type": "stream",
          "name": "stdout",
          "text": [
            "tensor([[0.8718, 0.8330, 0.4839],\n",
            "        [0.6595, 0.1398, 0.6334],\n",
            "        [0.5960, 0.3425, 0.4051],\n",
            "        [0.2720, 0.7636, 0.0915],\n",
            "        [0.1660, 0.8229, 0.1182]])\n"
          ]
        }
      ]
    },
    {
      "cell_type": "code",
      "source": [
        "print(a[:,0])"
      ],
      "metadata": {
        "colab": {
          "base_uri": "https://localhost:8080/"
        },
        "id": "hIvOnK3BHqRz",
        "outputId": "0f373388-83b8-4f6b-b3ba-c02bb587195a"
      },
      "execution_count": 16,
      "outputs": [
        {
          "output_type": "stream",
          "name": "stdout",
          "text": [
            "tensor([0.8718, 0.6595, 0.5960, 0.2720, 0.1660])\n"
          ]
        }
      ]
    },
    {
      "cell_type": "code",
      "source": [
        "print(a[1,1])"
      ],
      "metadata": {
        "colab": {
          "base_uri": "https://localhost:8080/"
        },
        "id": "pP7Xxcu5Hwu6",
        "outputId": "11153025-18d8-4c5e-c1a2-b49b49fa1058"
      },
      "execution_count": 17,
      "outputs": [
        {
          "output_type": "stream",
          "name": "stdout",
          "text": [
            "tensor(0.1398)\n"
          ]
        }
      ]
    },
    {
      "cell_type": "code",
      "source": [
        "print(a[1,1].item())"
      ],
      "metadata": {
        "colab": {
          "base_uri": "https://localhost:8080/"
        },
        "id": "T768ciNLH-am",
        "outputId": "aa8b4b5d-75d3-4d07-9f5f-ec6ea6e21200"
      },
      "execution_count": 18,
      "outputs": [
        {
          "output_type": "stream",
          "name": "stdout",
          "text": [
            "0.1397985816001892\n"
          ]
        }
      ]
    },
    {
      "cell_type": "code",
      "source": [
        "b = torch.rand(4,4)\n",
        "print(b)"
      ],
      "metadata": {
        "colab": {
          "base_uri": "https://localhost:8080/"
        },
        "id": "5llywpuMIE2q",
        "outputId": "972bcb88-0da2-420e-e524-eb5d23d13e3e"
      },
      "execution_count": 19,
      "outputs": [
        {
          "output_type": "stream",
          "name": "stdout",
          "text": [
            "tensor([[0.8176, 0.9437, 0.9081, 0.4026],\n",
            "        [0.4786, 0.4495, 0.7811, 0.5982],\n",
            "        [0.3483, 0.4284, 0.5854, 0.3887],\n",
            "        [0.1028, 0.8967, 0.4380, 0.6280]])\n"
          ]
        }
      ]
    },
    {
      "cell_type": "code",
      "source": [
        "c = b.view(16)\n",
        "print(c)"
      ],
      "metadata": {
        "colab": {
          "base_uri": "https://localhost:8080/"
        },
        "id": "-sbdLhYiIIw8",
        "outputId": "afaf3519-50c6-422c-c8d2-8ca8315f112a"
      },
      "execution_count": 20,
      "outputs": [
        {
          "output_type": "stream",
          "name": "stdout",
          "text": [
            "tensor([0.8176, 0.9437, 0.9081, 0.4026, 0.4786, 0.4495, 0.7811, 0.5982, 0.3483,\n",
            "        0.4284, 0.5854, 0.3887, 0.1028, 0.8967, 0.4380, 0.6280])\n"
          ]
        }
      ]
    },
    {
      "cell_type": "code",
      "source": [
        "c = b.view(-1,8)\n",
        "print(c)"
      ],
      "metadata": {
        "colab": {
          "base_uri": "https://localhost:8080/"
        },
        "id": "kiOtjIhoIM38",
        "outputId": "292e644d-89ff-4baa-9bc0-f91e1011a31b"
      },
      "execution_count": 21,
      "outputs": [
        {
          "output_type": "stream",
          "name": "stdout",
          "text": [
            "tensor([[0.8176, 0.9437, 0.9081, 0.4026, 0.4786, 0.4495, 0.7811, 0.5982],\n",
            "        [0.3483, 0.4284, 0.5854, 0.3887, 0.1028, 0.8967, 0.4380, 0.6280]])\n"
          ]
        }
      ]
    },
    {
      "cell_type": "code",
      "source": [
        "import numpy as np"
      ],
      "metadata": {
        "id": "cYtamL7dIpEx"
      },
      "execution_count": 22,
      "outputs": []
    },
    {
      "cell_type": "code",
      "source": [
        "a = torch.ones(5)\n",
        "print(a)\n",
        "print(type(a))"
      ],
      "metadata": {
        "colab": {
          "base_uri": "https://localhost:8080/"
        },
        "id": "IWR0iP-eLuUG",
        "outputId": "197bc8fa-771b-4c07-e9d8-a1981b96094e"
      },
      "execution_count": 23,
      "outputs": [
        {
          "output_type": "stream",
          "name": "stdout",
          "text": [
            "tensor([1., 1., 1., 1., 1.])\n",
            "<class 'torch.Tensor'>\n"
          ]
        }
      ]
    },
    {
      "cell_type": "code",
      "source": [
        "b = a.numpy()\n",
        "print(b)\n",
        "print(type(b))"
      ],
      "metadata": {
        "colab": {
          "base_uri": "https://localhost:8080/"
        },
        "id": "IAmlF0XBLx63",
        "outputId": "34f1d972-99d5-4e48-8d70-8f815805183e"
      },
      "execution_count": 24,
      "outputs": [
        {
          "output_type": "stream",
          "name": "stdout",
          "text": [
            "[1. 1. 1. 1. 1.]\n",
            "<class 'numpy.ndarray'>\n"
          ]
        }
      ]
    },
    {
      "cell_type": "code",
      "source": [
        "a.add_(1)\n",
        "print(a,type(a))\n",
        "print(b, type(b))"
      ],
      "metadata": {
        "colab": {
          "base_uri": "https://localhost:8080/"
        },
        "id": "3QqasfOsL1Qx",
        "outputId": "7abaea79-9a54-46cd-91d1-36d9094d3c18"
      },
      "execution_count": 25,
      "outputs": [
        {
          "output_type": "stream",
          "name": "stdout",
          "text": [
            "tensor([2., 2., 2., 2., 2.]) <class 'torch.Tensor'>\n",
            "[2. 2. 2. 2. 2.] <class 'numpy.ndarray'>\n"
          ]
        }
      ]
    },
    {
      "cell_type": "code",
      "source": [
        "a = np.ones(5)\n",
        "b = torch.from_numpy(a)\n",
        "print(b, type(b))"
      ],
      "metadata": {
        "colab": {
          "base_uri": "https://localhost:8080/"
        },
        "id": "_ffdk2MEMUl_",
        "outputId": "3a65bc21-f0c9-4d21-beab-386fd81c15b7"
      },
      "execution_count": 26,
      "outputs": [
        {
          "output_type": "stream",
          "name": "stdout",
          "text": [
            "tensor([1., 1., 1., 1., 1.], dtype=torch.float64) <class 'torch.Tensor'>\n"
          ]
        }
      ]
    },
    {
      "cell_type": "code",
      "source": [
        "a+=1"
      ],
      "metadata": {
        "id": "NclI9f9LMiXW"
      },
      "execution_count": 27,
      "outputs": []
    },
    {
      "cell_type": "code",
      "source": [
        "print(a)\n",
        "print(b)"
      ],
      "metadata": {
        "colab": {
          "base_uri": "https://localhost:8080/"
        },
        "id": "vM3UDB_4Mob3",
        "outputId": "5dada835-c808-40bf-d303-a5278567fd6e"
      },
      "execution_count": 28,
      "outputs": [
        {
          "output_type": "stream",
          "name": "stdout",
          "text": [
            "[2. 2. 2. 2. 2.]\n",
            "tensor([2., 2., 2., 2., 2.], dtype=torch.float64)\n"
          ]
        }
      ]
    },
    {
      "cell_type": "code",
      "source": [
        "if torch.cuda.is_available():\n",
        "  device = torch.device(\"cuda\")\n",
        "  print(device,' available')\n",
        "  x = torch.ones(5, device=device)\n",
        "  y = torch.ones(5)\n",
        "  y = y.to(device)\n",
        "  z = x+y\n",
        "  print(z)\n",
        "  z = z.to(\"cpu\")\n",
        "  print(z, type(z))\n",
        "else:\n",
        "  print('Device NOT available')"
      ],
      "metadata": {
        "colab": {
          "base_uri": "https://localhost:8080/"
        },
        "id": "4_iTA58xMpd4",
        "outputId": "7c3fded6-01aa-4780-caf9-661bdb491567"
      },
      "execution_count": 32,
      "outputs": [
        {
          "output_type": "stream",
          "name": "stdout",
          "text": [
            "cuda  available\n",
            "tensor([2., 2., 2., 2., 2.], device='cuda:0')\n",
            "tensor([2., 2., 2., 2., 2.]) <class 'torch.Tensor'>\n"
          ]
        }
      ]
    },
    {
      "cell_type": "code",
      "source": [
        "x = torch.ones(5, requires_grad=True)\n",
        "print(x)"
      ],
      "metadata": {
        "colab": {
          "base_uri": "https://localhost:8080/"
        },
        "id": "tQNRNwjxM16C",
        "outputId": "57ed4c88-8588-4c6f-ce50-84c39227d65b"
      },
      "execution_count": 33,
      "outputs": [
        {
          "output_type": "stream",
          "name": "stdout",
          "text": [
            "tensor([1., 1., 1., 1., 1.], requires_grad=True)\n"
          ]
        }
      ]
    },
    {
      "cell_type": "code",
      "source": [],
      "metadata": {
        "id": "U5383r_vPHBE"
      },
      "execution_count": null,
      "outputs": []
    },
    {
      "cell_type": "markdown",
      "source": [
        "Gradient Calculation with Auto Grad"
      ],
      "metadata": {
        "id": "pZtU3rweWru0"
      }
    },
    {
      "cell_type": "code",
      "source": [
        "import torch\n",
        "x = torch.randn(3,requires_grad=True)\n",
        "print(x)"
      ],
      "metadata": {
        "colab": {
          "base_uri": "https://localhost:8080/"
        },
        "id": "DNbn_8YEWw3f",
        "outputId": "3f7c0a1d-4b11-4530-fac4-7f8260786415"
      },
      "execution_count": 2,
      "outputs": [
        {
          "output_type": "stream",
          "name": "stdout",
          "text": [
            "tensor([0.5494, 0.5208, 1.0962], requires_grad=True)\n"
          ]
        }
      ]
    },
    {
      "cell_type": "code",
      "source": [
        "y = x+2\n",
        "print(y)"
      ],
      "metadata": {
        "colab": {
          "base_uri": "https://localhost:8080/"
        },
        "id": "vQxI9Vh7W4x0",
        "outputId": "b6104e36-8520-46cb-f747-1600e1c8b2f7"
      },
      "execution_count": 3,
      "outputs": [
        {
          "output_type": "stream",
          "name": "stdout",
          "text": [
            "tensor([2.5494, 2.5208, 3.0962], grad_fn=<AddBackward0>)\n"
          ]
        }
      ]
    },
    {
      "cell_type": "code",
      "source": [],
      "metadata": {
        "id": "3be2ab-JXETp"
      },
      "execution_count": null,
      "outputs": []
    }
  ]
}